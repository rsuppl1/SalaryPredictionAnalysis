{
 "cells": [
  {
   "cell_type": "code",
   "execution_count": 1,
   "id": "543894f2",
   "metadata": {
    "_cell_guid": "b1076dfc-b9ad-4769-8c92-a6c4dae69d19",
    "_uuid": "8f2839f25d086af736a60e9eeb907d3b93b6e0e5",
    "execution": {
     "iopub.execute_input": "2022-06-23T01:07:52.241124Z",
     "iopub.status.busy": "2022-06-23T01:07:52.240595Z",
     "iopub.status.idle": "2022-06-23T01:07:54.011389Z",
     "shell.execute_reply": "2022-06-23T01:07:54.010346Z"
    },
    "papermill": {
     "duration": 1.790558,
     "end_time": "2022-06-23T01:07:54.014072",
     "exception": false,
     "start_time": "2022-06-23T01:07:52.223514",
     "status": "completed"
    },
    "tags": []
   },
   "outputs": [],
   "source": [
    "import numpy as np\n",
    "import pandas as pd \n",
    "import matplotlib.pyplot as plt\n",
    "import seaborn as sns\n",
    "import requests\n",
    "from sklearn import tree\n",
    "from sklearn import metrics\n",
    "from sklearn.ensemble import RandomForestClassifier\n",
    "from sklearn.metrics import accuracy_score\n",
    "from sklearn.model_selection import train_test_split\n",
    "from sklearn.naive_bayes import MultinomialNB\n",
    "from sklearn.compose import make_column_transformer"
   ]
  },
  {
   "cell_type": "markdown",
   "id": "34bca359",
   "metadata": {
    "papermill": {
     "duration": 0.01217,
     "end_time": "2022-06-23T01:07:54.039268",
     "exception": false,
     "start_time": "2022-06-23T01:07:54.027098",
     "status": "completed"
    },
    "tags": []
   },
   "source": [
    "GET THE DATA: \n",
    "- Import the data and add header columns\n",
    "- Split dataset into Train and Test"
   ]
  },
  {
   "cell_type": "code",
   "execution_count": 2,
   "id": "bbea8c3f",
   "metadata": {
    "execution": {
     "iopub.execute_input": "2022-06-23T01:07:54.066504Z",
     "iopub.status.busy": "2022-06-23T01:07:54.066096Z",
     "iopub.status.idle": "2022-06-23T01:07:54.516534Z",
     "shell.execute_reply": "2022-06-23T01:07:54.515425Z"
    },
    "papermill": {
     "duration": 0.466524,
     "end_time": "2022-06-23T01:07:54.518923",
     "exception": false,
     "start_time": "2022-06-23T01:07:54.052399",
     "status": "completed"
    },
    "tags": []
   },
   "outputs": [
    {
     "data": {
      "text/plain": [
       "{'Date': 'Thu, 23 Jun 2022 01:07:54 GMT', 'Server': 'Apache/2.4.6 (CentOS) OpenSSL/1.0.2k-fips SVN/1.7.14 Phusion_Passenger/4.0.53 mod_perl/2.0.11 Perl/v5.16.3', 'Last-Modified': 'Sat, 10 Aug 1996 18:14:48 GMT', 'ETag': '\"3ca4a1-2fbb419259600\"', 'Accept-Ranges': 'bytes', 'Content-Length': '3974305', 'Keep-Alive': 'timeout=5, max=100', 'Connection': 'Keep-Alive', 'Content-Type': 'application/x-httpd-php'}"
      ]
     },
     "execution_count": 2,
     "metadata": {},
     "output_type": "execute_result"
    }
   ],
   "source": [
    "url = 'https://archive.ics.uci.edu/ml/machine-learning-databases/adult/adult.data'\n",
    "r = requests.get(url)\n",
    "r.headers"
   ]
  },
  {
   "cell_type": "code",
   "execution_count": 3,
   "id": "0ee58a75",
   "metadata": {
    "execution": {
     "iopub.execute_input": "2022-06-23T01:07:54.548014Z",
     "iopub.status.busy": "2022-06-23T01:07:54.547592Z",
     "iopub.status.idle": "2022-06-23T01:07:55.077431Z",
     "shell.execute_reply": "2022-06-23T01:07:55.076514Z"
    },
    "papermill": {
     "duration": 0.546703,
     "end_time": "2022-06-23T01:07:55.079620",
     "exception": false,
     "start_time": "2022-06-23T01:07:54.532917",
     "status": "completed"
    },
    "tags": []
   },
   "outputs": [
    {
     "data": {
      "text/html": [
       "<div>\n",
       "<style scoped>\n",
       "    .dataframe tbody tr th:only-of-type {\n",
       "        vertical-align: middle;\n",
       "    }\n",
       "\n",
       "    .dataframe tbody tr th {\n",
       "        vertical-align: top;\n",
       "    }\n",
       "\n",
       "    .dataframe thead th {\n",
       "        text-align: right;\n",
       "    }\n",
       "</style>\n",
       "<table border=\"1\" class=\"dataframe\">\n",
       "  <thead>\n",
       "    <tr style=\"text-align: right;\">\n",
       "      <th></th>\n",
       "      <th>age</th>\n",
       "      <th>workclass</th>\n",
       "      <th>fnlwgt</th>\n",
       "      <th>education</th>\n",
       "      <th>education-num</th>\n",
       "      <th>marital-status</th>\n",
       "      <th>occupation</th>\n",
       "      <th>relationship</th>\n",
       "      <th>race</th>\n",
       "      <th>sex</th>\n",
       "      <th>capital-gain</th>\n",
       "      <th>capital-loss</th>\n",
       "      <th>hours-per-week</th>\n",
       "      <th>native-country</th>\n",
       "      <th>salary</th>\n",
       "    </tr>\n",
       "  </thead>\n",
       "  <tbody>\n",
       "    <tr>\n",
       "      <th>0</th>\n",
       "      <td>39</td>\n",
       "      <td>State-gov</td>\n",
       "      <td>77516</td>\n",
       "      <td>Bachelors</td>\n",
       "      <td>13</td>\n",
       "      <td>Never-married</td>\n",
       "      <td>Adm-clerical</td>\n",
       "      <td>Not-in-family</td>\n",
       "      <td>White</td>\n",
       "      <td>Male</td>\n",
       "      <td>2174</td>\n",
       "      <td>0</td>\n",
       "      <td>40</td>\n",
       "      <td>United-States</td>\n",
       "      <td>&lt;=50K</td>\n",
       "    </tr>\n",
       "    <tr>\n",
       "      <th>1</th>\n",
       "      <td>50</td>\n",
       "      <td>Self-emp-not-inc</td>\n",
       "      <td>83311</td>\n",
       "      <td>Bachelors</td>\n",
       "      <td>13</td>\n",
       "      <td>Married-civ-spouse</td>\n",
       "      <td>Exec-managerial</td>\n",
       "      <td>Husband</td>\n",
       "      <td>White</td>\n",
       "      <td>Male</td>\n",
       "      <td>0</td>\n",
       "      <td>0</td>\n",
       "      <td>13</td>\n",
       "      <td>United-States</td>\n",
       "      <td>&lt;=50K</td>\n",
       "    </tr>\n",
       "    <tr>\n",
       "      <th>2</th>\n",
       "      <td>38</td>\n",
       "      <td>Private</td>\n",
       "      <td>215646</td>\n",
       "      <td>HS-grad</td>\n",
       "      <td>9</td>\n",
       "      <td>Divorced</td>\n",
       "      <td>Handlers-cleaners</td>\n",
       "      <td>Not-in-family</td>\n",
       "      <td>White</td>\n",
       "      <td>Male</td>\n",
       "      <td>0</td>\n",
       "      <td>0</td>\n",
       "      <td>40</td>\n",
       "      <td>United-States</td>\n",
       "      <td>&lt;=50K</td>\n",
       "    </tr>\n",
       "    <tr>\n",
       "      <th>3</th>\n",
       "      <td>53</td>\n",
       "      <td>Private</td>\n",
       "      <td>234721</td>\n",
       "      <td>11th</td>\n",
       "      <td>7</td>\n",
       "      <td>Married-civ-spouse</td>\n",
       "      <td>Handlers-cleaners</td>\n",
       "      <td>Husband</td>\n",
       "      <td>Black</td>\n",
       "      <td>Male</td>\n",
       "      <td>0</td>\n",
       "      <td>0</td>\n",
       "      <td>40</td>\n",
       "      <td>United-States</td>\n",
       "      <td>&lt;=50K</td>\n",
       "    </tr>\n",
       "    <tr>\n",
       "      <th>4</th>\n",
       "      <td>28</td>\n",
       "      <td>Private</td>\n",
       "      <td>338409</td>\n",
       "      <td>Bachelors</td>\n",
       "      <td>13</td>\n",
       "      <td>Married-civ-spouse</td>\n",
       "      <td>Prof-specialty</td>\n",
       "      <td>Wife</td>\n",
       "      <td>Black</td>\n",
       "      <td>Female</td>\n",
       "      <td>0</td>\n",
       "      <td>0</td>\n",
       "      <td>40</td>\n",
       "      <td>Cuba</td>\n",
       "      <td>&lt;=50K</td>\n",
       "    </tr>\n",
       "    <tr>\n",
       "      <th>5</th>\n",
       "      <td>37</td>\n",
       "      <td>Private</td>\n",
       "      <td>284582</td>\n",
       "      <td>Masters</td>\n",
       "      <td>14</td>\n",
       "      <td>Married-civ-spouse</td>\n",
       "      <td>Exec-managerial</td>\n",
       "      <td>Wife</td>\n",
       "      <td>White</td>\n",
       "      <td>Female</td>\n",
       "      <td>0</td>\n",
       "      <td>0</td>\n",
       "      <td>40</td>\n",
       "      <td>United-States</td>\n",
       "      <td>&lt;=50K</td>\n",
       "    </tr>\n",
       "    <tr>\n",
       "      <th>6</th>\n",
       "      <td>49</td>\n",
       "      <td>Private</td>\n",
       "      <td>160187</td>\n",
       "      <td>9th</td>\n",
       "      <td>5</td>\n",
       "      <td>Married-spouse-absent</td>\n",
       "      <td>Other-service</td>\n",
       "      <td>Not-in-family</td>\n",
       "      <td>Black</td>\n",
       "      <td>Female</td>\n",
       "      <td>0</td>\n",
       "      <td>0</td>\n",
       "      <td>16</td>\n",
       "      <td>Jamaica</td>\n",
       "      <td>&lt;=50K</td>\n",
       "    </tr>\n",
       "    <tr>\n",
       "      <th>7</th>\n",
       "      <td>52</td>\n",
       "      <td>Self-emp-not-inc</td>\n",
       "      <td>209642</td>\n",
       "      <td>HS-grad</td>\n",
       "      <td>9</td>\n",
       "      <td>Married-civ-spouse</td>\n",
       "      <td>Exec-managerial</td>\n",
       "      <td>Husband</td>\n",
       "      <td>White</td>\n",
       "      <td>Male</td>\n",
       "      <td>0</td>\n",
       "      <td>0</td>\n",
       "      <td>45</td>\n",
       "      <td>United-States</td>\n",
       "      <td>&gt;50K</td>\n",
       "    </tr>\n",
       "    <tr>\n",
       "      <th>8</th>\n",
       "      <td>31</td>\n",
       "      <td>Private</td>\n",
       "      <td>45781</td>\n",
       "      <td>Masters</td>\n",
       "      <td>14</td>\n",
       "      <td>Never-married</td>\n",
       "      <td>Prof-specialty</td>\n",
       "      <td>Not-in-family</td>\n",
       "      <td>White</td>\n",
       "      <td>Female</td>\n",
       "      <td>14084</td>\n",
       "      <td>0</td>\n",
       "      <td>50</td>\n",
       "      <td>United-States</td>\n",
       "      <td>&gt;50K</td>\n",
       "    </tr>\n",
       "    <tr>\n",
       "      <th>9</th>\n",
       "      <td>42</td>\n",
       "      <td>Private</td>\n",
       "      <td>159449</td>\n",
       "      <td>Bachelors</td>\n",
       "      <td>13</td>\n",
       "      <td>Married-civ-spouse</td>\n",
       "      <td>Exec-managerial</td>\n",
       "      <td>Husband</td>\n",
       "      <td>White</td>\n",
       "      <td>Male</td>\n",
       "      <td>5178</td>\n",
       "      <td>0</td>\n",
       "      <td>40</td>\n",
       "      <td>United-States</td>\n",
       "      <td>&gt;50K</td>\n",
       "    </tr>\n",
       "  </tbody>\n",
       "</table>\n",
       "</div>"
      ],
      "text/plain": [
       "   age          workclass  fnlwgt   education  education-num  \\\n",
       "0   39          State-gov   77516   Bachelors             13   \n",
       "1   50   Self-emp-not-inc   83311   Bachelors             13   \n",
       "2   38            Private  215646     HS-grad              9   \n",
       "3   53            Private  234721        11th              7   \n",
       "4   28            Private  338409   Bachelors             13   \n",
       "5   37            Private  284582     Masters             14   \n",
       "6   49            Private  160187         9th              5   \n",
       "7   52   Self-emp-not-inc  209642     HS-grad              9   \n",
       "8   31            Private   45781     Masters             14   \n",
       "9   42            Private  159449   Bachelors             13   \n",
       "\n",
       "           marital-status          occupation    relationship    race  \\\n",
       "0           Never-married        Adm-clerical   Not-in-family   White   \n",
       "1      Married-civ-spouse     Exec-managerial         Husband   White   \n",
       "2                Divorced   Handlers-cleaners   Not-in-family   White   \n",
       "3      Married-civ-spouse   Handlers-cleaners         Husband   Black   \n",
       "4      Married-civ-spouse      Prof-specialty            Wife   Black   \n",
       "5      Married-civ-spouse     Exec-managerial            Wife   White   \n",
       "6   Married-spouse-absent       Other-service   Not-in-family   Black   \n",
       "7      Married-civ-spouse     Exec-managerial         Husband   White   \n",
       "8           Never-married      Prof-specialty   Not-in-family   White   \n",
       "9      Married-civ-spouse     Exec-managerial         Husband   White   \n",
       "\n",
       "       sex  capital-gain  capital-loss  hours-per-week  native-country  salary  \n",
       "0     Male          2174             0              40   United-States   <=50K  \n",
       "1     Male             0             0              13   United-States   <=50K  \n",
       "2     Male             0             0              40   United-States   <=50K  \n",
       "3     Male             0             0              40   United-States   <=50K  \n",
       "4   Female             0             0              40            Cuba   <=50K  \n",
       "5   Female             0             0              40   United-States   <=50K  \n",
       "6   Female             0             0              16         Jamaica   <=50K  \n",
       "7     Male             0             0              45   United-States    >50K  \n",
       "8   Female         14084             0              50   United-States    >50K  \n",
       "9     Male          5178             0              40   United-States    >50K  "
      ]
     },
     "execution_count": 3,
     "metadata": {},
     "output_type": "execute_result"
    }
   ],
   "source": [
    "df_salary = pd.read_csv(url, header=None)\n",
    "df_salary.columns = ['age', 'workclass', 'fnlwgt', 'education', 'education-num', 'marital-status', 'occupation', 'relationship', 'race', 'sex', 'capital-gain', 'capital-loss', 'hours-per-week', 'native-country', 'salary']\n",
    "df_salary.head(10)"
   ]
  },
  {
   "cell_type": "markdown",
   "id": "c5971699",
   "metadata": {
    "papermill": {
     "duration": 0.012907,
     "end_time": "2022-06-23T01:07:55.106049",
     "exception": false,
     "start_time": "2022-06-23T01:07:55.093142",
     "status": "completed"
    },
    "tags": []
   },
   "source": [
    "EXPLORING THE DATA:\n",
    "- Identify Target Features\n",
    "- Data Visualization"
   ]
  },
  {
   "cell_type": "code",
   "execution_count": 4,
   "id": "97f00214",
   "metadata": {
    "execution": {
     "iopub.execute_input": "2022-06-23T01:07:55.135993Z",
     "iopub.status.busy": "2022-06-23T01:07:55.135604Z",
     "iopub.status.idle": "2022-06-23T01:07:55.382451Z",
     "shell.execute_reply": "2022-06-23T01:07:55.381597Z"
    },
    "papermill": {
     "duration": 0.26421,
     "end_time": "2022-06-23T01:07:55.384768",
     "exception": false,
     "start_time": "2022-06-23T01:07:55.120558",
     "status": "completed"
    },
    "tags": []
   },
   "outputs": [
    {
     "data": {
      "text/plain": [
       "<AxesSubplot:xlabel='salary', ylabel='count'>"
      ]
     },
     "execution_count": 4,
     "metadata": {},
     "output_type": "execute_result"
    },
    {
     "data": {
      "image/png": "[encoded data removed]",
      "text/plain": [
       "<Figure size 432x288 with 1 Axes>"
      ]
     },
     "metadata": {
      "needs_background": "light"
     },
     "output_type": "display_data"
    }
   ],
   "source": [
    "sns.countplot(x='salary', data=df_salary)"
   ]
  },
  {
   "cell_type": "code",
   "execution_count": 5,
   "id": "55016961",
   "metadata": {
    "execution": {
     "iopub.execute_input": "2022-06-23T01:07:55.414799Z",
     "iopub.status.busy": "2022-06-23T01:07:55.414339Z",
     "iopub.status.idle": "2022-06-23T01:07:55.901905Z",
     "shell.execute_reply": "2022-06-23T01:07:55.900818Z"
    },
    "papermill": {
     "duration": 0.50556,
     "end_time": "2022-06-23T01:07:55.904774",
     "exception": false,
     "start_time": "2022-06-23T01:07:55.399214",
     "status": "completed"
    },
    "tags": []
   },
   "outputs": [
    {
     "data": {
      "text/plain": [
       "<seaborn.axisgrid.FacetGrid at 0x7fe76dbf7050>"
      ]
     },
     "execution_count": 5,
     "metadata": {},
     "output_type": "execute_result"
    },
    {
     "data": {
      "image/png": "[encoded data removed]",
      "text/plain": [
       "<Figure size 720x360 with 2 Axes>"
      ]
     },
     "metadata": {
      "needs_background": "light"
     },
     "output_type": "display_data"
    }
   ],
   "source": [
    "sns.catplot(x='salary', col='sex', kind='count', data=df_salary)"
   ]
  },
  {
   "cell_type": "code",
   "execution_count": 6,
   "id": "8930aeab",
   "metadata": {
    "execution": {
     "iopub.execute_input": "2022-06-23T01:07:55.936228Z",
     "iopub.status.busy": "2022-06-23T01:07:55.935522Z",
     "iopub.status.idle": "2022-06-23T01:07:55.948084Z",
     "shell.execute_reply": "2022-06-23T01:07:55.947085Z"
    },
    "papermill": {
     "duration": 0.030466,
     "end_time": "2022-06-23T01:07:55.950516",
     "exception": false,
     "start_time": "2022-06-23T01:07:55.920050",
     "status": "completed"
    },
    "tags": []
   },
   "outputs": [
    {
     "data": {
      "text/plain": [
       " HS-grad         10501\n",
       " Some-college     7291\n",
       " Bachelors        5355\n",
       " Masters          1723\n",
       " Assoc-voc        1382\n",
       " 11th             1175\n",
       " Assoc-acdm       1067\n",
       " 10th              933\n",
       " 7th-8th           646\n",
       " Prof-school       576\n",
       " 9th               514\n",
       " 12th              433\n",
       " Doctorate         413\n",
       " 5th-6th           333\n",
       " 1st-4th           168\n",
       " Preschool          51\n",
       "Name: education, dtype: int64"
      ]
     },
     "execution_count": 6,
     "metadata": {},
     "output_type": "execute_result"
    }
   ],
   "source": [
    "df_salary['education'].value_counts()"
   ]
  },
  {
   "cell_type": "code",
   "execution_count": 7,
   "id": "c6404d34",
   "metadata": {
    "execution": {
     "iopub.execute_input": "2022-06-23T01:07:55.981705Z",
     "iopub.status.busy": "2022-06-23T01:07:55.981267Z",
     "iopub.status.idle": "2022-06-23T01:07:58.408744Z",
     "shell.execute_reply": "2022-06-23T01:07:58.407712Z"
    },
    "papermill": {
     "duration": 2.446001,
     "end_time": "2022-06-23T01:07:58.411192",
     "exception": false,
     "start_time": "2022-06-23T01:07:55.965191",
     "status": "completed"
    },
    "tags": []
   },
   "outputs": [
    {
     "data": {
      "text/plain": [
       "<seaborn.axisgrid.FacetGrid at 0x7fe76b4a9dd0>"
      ]
     },
     "execution_count": 7,
     "metadata": {},
     "output_type": "execute_result"
    },
    {
     "data": {
      "image/png": "[encoded data removed]",
      "text/plain": [
       "<Figure size 1080x2160 with 16 Axes>"
      ]
     },
     "metadata": {
      "needs_background": "light"
     },
     "output_type": "display_data"
    }
   ],
   "source": [
    "sns.catplot(x='salary', col='education', kind='count', data=df_salary, col_wrap=3)"
   ]
  },
  {
   "cell_type": "code",
   "execution_count": 8,
   "id": "74595af0",
   "metadata": {
    "execution": {
     "iopub.execute_input": "2022-06-23T01:07:58.449827Z",
     "iopub.status.busy": "2022-06-23T01:07:58.449014Z",
     "iopub.status.idle": "2022-06-23T01:07:58.461823Z",
     "shell.execute_reply": "2022-06-23T01:07:58.461051Z"
    },
    "papermill": {
     "duration": 0.035,
     "end_time": "2022-06-23T01:07:58.464057",
     "exception": false,
     "start_time": "2022-06-23T01:07:58.429057",
     "status": "completed"
    },
    "tags": []
   },
   "outputs": [
    {
     "data": {
      "text/plain": [
       " Married-civ-spouse       14976\n",
       " Never-married            10683\n",
       " Divorced                  4443\n",
       " Separated                 1025\n",
       " Widowed                    993\n",
       " Married-spouse-absent      418\n",
       " Married-AF-spouse           23\n",
       "Name: marital-status, dtype: int64"
      ]
     },
     "execution_count": 8,
     "metadata": {},
     "output_type": "execute_result"
    }
   ],
   "source": [
    "df_salary['marital-status'].value_counts()"
   ]
  },
  {
   "cell_type": "code",
   "execution_count": 9,
   "id": "67986809",
   "metadata": {
    "execution": {
     "iopub.execute_input": "2022-06-23T01:07:58.497973Z",
     "iopub.status.busy": "2022-06-23T01:07:58.497082Z",
     "iopub.status.idle": "2022-06-23T01:07:59.636400Z",
     "shell.execute_reply": "2022-06-23T01:07:59.635477Z"
    },
    "papermill": {
     "duration": 1.158746,
     "end_time": "2022-06-23T01:07:59.638787",
     "exception": false,
     "start_time": "2022-06-23T01:07:58.480041",
     "status": "completed"
    },
    "tags": []
   },
   "outputs": [
    {
     "data": {
      "text/plain": [
       "<seaborn.axisgrid.FacetGrid at 0x7fe76a52b590>"
      ]
     },
     "execution_count": 9,
     "metadata": {},
     "output_type": "execute_result"
    },
    {
     "data": {
      "image/png": "[encoded data removed]",
      "text/plain": [
       "<Figure size 1080x1080 with 7 Axes>"
      ]
     },
     "metadata": {
      "needs_background": "light"
     },
     "output_type": "display_data"
    }
   ],
   "source": [
    "sns.catplot(x='salary', col='marital-status', kind='count', data=df_salary, col_wrap=3)"
   ]
  },
  {
   "cell_type": "code",
   "execution_count": 10,
   "id": "f5251c74",
   "metadata": {
    "execution": {
     "iopub.execute_input": "2022-06-23T01:07:59.673226Z",
     "iopub.status.busy": "2022-06-23T01:07:59.672693Z",
     "iopub.status.idle": "2022-06-23T01:08:00.277424Z",
     "shell.execute_reply": "2022-06-23T01:08:00.276510Z"
    },
    "papermill": {
     "duration": 0.62432,
     "end_time": "2022-06-23T01:08:00.279474",
     "exception": false,
     "start_time": "2022-06-23T01:07:59.655154",
     "status": "completed"
    },
    "tags": []
   },
   "outputs": [
    {
     "data": {
      "text/plain": [
       "<seaborn.axisgrid.FacetGrid at 0x7fe76995f950>"
      ]
     },
     "execution_count": 10,
     "metadata": {},
     "output_type": "execute_result"
    },
    {
     "data": {
      "image/png": "[encoded data removed]",
      "text/plain": [
       "<Figure size 720x360 with 2 Axes>"
      ]
     },
     "metadata": {
      "needs_background": "light"
     },
     "output_type": "display_data"
    }
   ],
   "source": [
    "sns.catplot(x='age', col='salary', kind='violin', data=df_salary)"
   ]
  },
  {
   "cell_type": "code",
   "execution_count": 11,
   "id": "2f7b600a",
   "metadata": {
    "execution": {
     "iopub.execute_input": "2022-06-23T01:08:00.316884Z",
     "iopub.status.busy": "2022-06-23T01:08:00.316367Z",
     "iopub.status.idle": "2022-06-23T01:08:00.864182Z",
     "shell.execute_reply": "2022-06-23T01:08:00.862540Z"
    },
    "papermill": {
     "duration": 0.56994,
     "end_time": "2022-06-23T01:08:00.866904",
     "exception": false,
     "start_time": "2022-06-23T01:08:00.296964",
     "status": "completed"
    },
    "tags": []
   },
   "outputs": [
    {
     "data": {
      "text/plain": [
       "<seaborn.axisgrid.FacetGrid at 0x7fe769977850>"
      ]
     },
     "execution_count": 11,
     "metadata": {},
     "output_type": "execute_result"
    },
    {
     "data": {
      "image/png": "[encoded data removed]",
      "text/plain": [
       "<Figure size 720x360 with 2 Axes>"
      ]
     },
     "metadata": {
      "needs_background": "light"
     },
     "output_type": "display_data"
    }
   ],
   "source": [
    "sns.catplot(x='hours-per-week', col='salary', kind='violin', data=df_salary)"
   ]
  },
  {
   "cell_type": "code",
   "execution_count": 12,
   "id": "40807253",
   "metadata": {
    "execution": {
     "iopub.execute_input": "2022-06-23T01:08:00.905884Z",
     "iopub.status.busy": "2022-06-23T01:08:00.904711Z",
     "iopub.status.idle": "2022-06-23T01:08:03.085718Z",
     "shell.execute_reply": "2022-06-23T01:08:03.084685Z"
    },
    "papermill": {
     "duration": 2.20157,
     "end_time": "2022-06-23T01:08:03.087737",
     "exception": false,
     "start_time": "2022-06-23T01:08:00.886167",
     "status": "completed"
    },
    "tags": []
   },
   "outputs": [
    {
     "data": {
      "text/plain": [
       "<seaborn.axisgrid.FacetGrid at 0x7fe7617e5c90>"
      ]
     },
     "execution_count": 12,
     "metadata": {},
     "output_type": "execute_result"
    },
    {
     "data": {
      "image/png": "[encoded data removed]",
      "text/plain": [
       "<Figure size 1080x1800 with 15 Axes>"
      ]
     },
     "metadata": {
      "needs_background": "light"
     },
     "output_type": "display_data"
    }
   ],
   "source": [
    "sns.catplot(x='salary', col='occupation', kind='count', data=df_salary, col_wrap=3)"
   ]
  },
  {
   "cell_type": "code",
   "execution_count": 13,
   "id": "796a7924",
   "metadata": {
    "execution": {
     "iopub.execute_input": "2022-06-23T01:08:03.126136Z",
     "iopub.status.busy": "2022-06-23T01:08:03.125696Z",
     "iopub.status.idle": "2022-06-23T01:08:04.218910Z",
     "shell.execute_reply": "2022-06-23T01:08:04.217846Z"
    },
    "papermill": {
     "duration": 1.115569,
     "end_time": "2022-06-23T01:08:04.221855",
     "exception": false,
     "start_time": "2022-06-23T01:08:03.106286",
     "status": "completed"
    },
    "tags": []
   },
   "outputs": [
    {
     "data": {
      "text/plain": [
       "<seaborn.axisgrid.FacetGrid at 0x7fe76a5f8250>"
      ]
     },
     "execution_count": 13,
     "metadata": {},
     "output_type": "execute_result"
    },
    {
     "data": {
      "image/png": "[encoded data removed]",
      "text/plain": [
       "<Figure size 1080x720 with 5 Axes>"
      ]
     },
     "metadata": {
      "needs_background": "light"
     },
     "output_type": "display_data"
    }
   ],
   "source": [
    "sns.catplot(x='salary', col='race', kind='count', data=df_salary, col_wrap=3)"
   ]
  },
  {
   "cell_type": "markdown",
   "id": "3355ab0d",
   "metadata": {
    "papermill": {
     "duration": 0.018947,
     "end_time": "2022-06-23T01:08:04.260340",
     "exception": false,
     "start_time": "2022-06-23T01:08:04.241393",
     "status": "completed"
    },
    "tags": []
   },
   "source": [
    "While exploring the data we found some uselful features to be sex, age, education, marital status, hours per week, occupation. At first glance, it seems more likely that you make over 50K if you are an older, educated, married, full-time, male, or in a managerical or professional role. \n",
    "We also think it could be uselful to bin/group some of these columns like age, education, and marital status since some of the values in those columns are similar and don't appear as often. "
   ]
  },
  {
   "cell_type": "markdown",
   "id": "ab241f15",
   "metadata": {
    "papermill": {
     "duration": 0.018265,
     "end_time": "2022-06-23T01:08:04.297130",
     "exception": false,
     "start_time": "2022-06-23T01:08:04.278865",
     "status": "completed"
    },
    "tags": []
   },
   "source": [
    "WRANGLE THE DATA: \n",
    "- Copy the original dataset\n",
    "- Missing data & outliers\n",
    "- Drop features that provide no useful information\n",
    "- Feature engineering\n",
    "- Standardize or normalize features"
   ]
  },
  {
   "cell_type": "code",
   "execution_count": 14,
   "id": "48393602",
   "metadata": {
    "execution": {
     "iopub.execute_input": "2022-06-23T01:08:04.337197Z",
     "iopub.status.busy": "2022-06-23T01:08:04.336328Z",
     "iopub.status.idle": "2022-06-23T01:08:04.383952Z",
     "shell.execute_reply": "2022-06-23T01:08:04.383178Z"
    },
    "papermill": {
     "duration": 0.071221,
     "end_time": "2022-06-23T01:08:04.386824",
     "exception": false,
     "start_time": "2022-06-23T01:08:04.315603",
     "status": "completed"
    },
    "tags": []
   },
   "outputs": [
    {
     "name": "stdout",
     "output_type": "stream",
     "text": [
      "<class 'pandas.core.frame.DataFrame'>\n",
      "RangeIndex: 32561 entries, 0 to 32560\n",
      "Data columns (total 15 columns):\n",
      " #   Column          Non-Null Count  Dtype \n",
      "---  ------          --------------  ----- \n",
      " 0   age             32561 non-null  int64 \n",
      " 1   workclass       32561 non-null  object\n",
      " 2   fnlwgt          32561 non-null  int64 \n",
      " 3   education       32561 non-null  object\n",
      " 4   education-num   32561 non-null  int64 \n",
      " 5   marital-status  32561 non-null  object\n",
      " 6   occupation      32561 non-null  object\n",
      " 7   relationship    32561 non-null  object\n",
      " 8   race            32561 non-null  object\n",
      " 9   sex             32561 non-null  object\n",
      " 10  capital-gain    32561 non-null  int64 \n",
      " 11  capital-loss    32561 non-null  int64 \n",
      " 12  hours-per-week  32561 non-null  int64 \n",
      " 13  native-country  32561 non-null  object\n",
      " 14  salary          32561 non-null  object\n",
      "dtypes: int64(6), object(9)\n",
      "memory usage: 3.7+ MB\n"
     ]
    }
   ],
   "source": [
    "df_salary.info()"
   ]
  },
  {
   "cell_type": "code",
   "execution_count": 15,
   "id": "0e2dce22",
   "metadata": {
    "execution": {
     "iopub.execute_input": "2022-06-23T01:08:04.429319Z",
     "iopub.status.busy": "2022-06-23T01:08:04.428906Z",
     "iopub.status.idle": "2022-06-23T01:08:04.442851Z",
     "shell.execute_reply": "2022-06-23T01:08:04.441693Z"
    },
    "papermill": {
     "duration": 0.038574,
     "end_time": "2022-06-23T01:08:04.445164",
     "exception": false,
     "start_time": "2022-06-23T01:08:04.406590",
     "status": "completed"
    },
    "tags": []
   },
   "outputs": [],
   "source": [
    "def wrangle_df(df):\n",
    "    df = replace_Values(df)\n",
    "    df = bin_columns(df)\n",
    "    df = drop_columns(df)\n",
    "    return df\n",
    "\n",
    "def replace_Values(df):\n",
    "    df.replace(' ?', np.nan, inplace = True)\n",
    "    df['native-country'].replace(np.nan, 'Unknown', inplace=True)\n",
    "    df['native-country'] = np.where(df['native-country'] != ' United-States', 'Immigrant', 'Native')\n",
    "    df['marital-status'].replace([' Married-civ-spouse', ' Married-spouse-absent', ' Married-AF-spouse'], 'Married', inplace=True)\n",
    "    df.dropna(inplace=True)\n",
    "    return df\n",
    "\n",
    "def dummy_variables(df):\n",
    "    df = pd.get_dummies(df)\n",
    "    return df   \n",
    "\n",
    "def bin_columns(df):\n",
    "    ageBins = np.linspace(min(df[\"age\"]), max(df[\"age\"]), 5)\n",
    "    ageGroupNames = ['YoungAdult', 'MiddleAged', 'OlderAdult', 'RetirementAge']\n",
    "    educationBins = [0, 8.5, 10.5, 13.5, 17]\n",
    "    educationGroupNames = ['Low', 'HighSchoolGrad', 'CollegeGrad', 'ProfessionalSchool']\n",
    "    hoursBins = [0, 39.5, 100]\n",
    "    hoursGroupNames = ['Part-Time', 'Full-Time']\n",
    "    \n",
    "\n",
    "    df['AgeGroup'] = pd.cut(df['age'], ageBins, labels=ageGroupNames, include_lowest=True )\n",
    "    df['EducationGroup'] = pd.cut(df['education-num'], educationBins, labels=educationGroupNames, include_lowest=True )\n",
    "    df['HoursWorked'] = pd.cut(df['hours-per-week'], hoursBins, labels=hoursGroupNames, include_lowest=True )\n",
    "    return df\n",
    "\n",
    "def drop_columns(df):\n",
    "    df.drop(columns=['age', 'capital-loss', 'capital-gain', 'hours-per-week',\n",
    "                    'education','education-num', 'relationship','workclass',\n",
    "                   'fnlwgt'], inplace=True)\n",
    "    return df\n",
    "\n"
   ]
  },
  {
   "cell_type": "code",
   "execution_count": 16,
   "id": "f3fb612f",
   "metadata": {
    "execution": {
     "iopub.execute_input": "2022-06-23T01:08:04.486560Z",
     "iopub.status.busy": "2022-06-23T01:08:04.485978Z",
     "iopub.status.idle": "2022-06-23T01:08:04.588743Z",
     "shell.execute_reply": "2022-06-23T01:08:04.587941Z"
    },
    "papermill": {
     "duration": 0.125542,
     "end_time": "2022-06-23T01:08:04.591088",
     "exception": false,
     "start_time": "2022-06-23T01:08:04.465546",
     "status": "completed"
    },
    "tags": []
   },
   "outputs": [],
   "source": [
    "df_salary = wrangle_df(df_salary)"
   ]
  },
  {
   "cell_type": "markdown",
   "id": "90986cb1",
   "metadata": {
    "papermill": {
     "duration": 0.019205,
     "end_time": "2022-06-23T01:08:04.629369",
     "exception": false,
     "start_time": "2022-06-23T01:08:04.610164",
     "status": "completed"
    },
    "tags": []
   },
   "source": [
    "Split the Data into train and test sets"
   ]
  },
  {
   "cell_type": "code",
   "execution_count": 17,
   "id": "14629b27",
   "metadata": {
    "execution": {
     "iopub.execute_input": "2022-06-23T01:08:04.670500Z",
     "iopub.status.busy": "2022-06-23T01:08:04.669877Z",
     "iopub.status.idle": "2022-06-23T01:08:04.683543Z",
     "shell.execute_reply": "2022-06-23T01:08:04.682604Z"
    },
    "papermill": {
     "duration": 0.037022,
     "end_time": "2022-06-23T01:08:04.686024",
     "exception": false,
     "start_time": "2022-06-23T01:08:04.649002",
     "status": "completed"
    },
    "tags": []
   },
   "outputs": [],
   "source": [
    "y = df_salary.salary\n",
    "df = df_salary.drop('salary', axis=1)\n",
    "\n",
    "X_train, X_test, y_train, y_test = train_test_split(df, y, test_size=0.15, random_state=17)"
   ]
  },
  {
   "cell_type": "code",
   "execution_count": 18,
   "id": "1eca89c2",
   "metadata": {
    "execution": {
     "iopub.execute_input": "2022-06-23T01:08:04.730685Z",
     "iopub.status.busy": "2022-06-23T01:08:04.730043Z",
     "iopub.status.idle": "2022-06-23T01:08:04.761094Z",
     "shell.execute_reply": "2022-06-23T01:08:04.760332Z"
    },
    "papermill": {
     "duration": 0.057119,
     "end_time": "2022-06-23T01:08:04.764197",
     "exception": false,
     "start_time": "2022-06-23T01:08:04.707078",
     "status": "completed"
    },
    "tags": []
   },
   "outputs": [
    {
     "name": "stdout",
     "output_type": "stream",
     "text": [
      "<class 'pandas.core.frame.DataFrame'>\n",
      "Int64Index: 26110 entries, 28489 to 11545\n",
      "Data columns (total 8 columns):\n",
      " #   Column          Non-Null Count  Dtype   \n",
      "---  ------          --------------  -----   \n",
      " 0   marital-status  26110 non-null  object  \n",
      " 1   occupation      26110 non-null  object  \n",
      " 2   race            26110 non-null  object  \n",
      " 3   sex             26110 non-null  object  \n",
      " 4   native-country  26110 non-null  object  \n",
      " 5   AgeGroup        26110 non-null  category\n",
      " 6   EducationGroup  26110 non-null  category\n",
      " 7   HoursWorked     26110 non-null  category\n",
      "dtypes: category(3), object(5)\n",
      "memory usage: 1.3+ MB\n"
     ]
    }
   ],
   "source": [
    "df_train = X_train\n",
    "df_test = X_test\n",
    "df_train.info()"
   ]
  },
  {
   "cell_type": "code",
   "execution_count": 19,
   "id": "fb959034",
   "metadata": {
    "execution": {
     "iopub.execute_input": "2022-06-23T01:08:04.808346Z",
     "iopub.status.busy": "2022-06-23T01:08:04.807356Z",
     "iopub.status.idle": "2022-06-23T01:08:04.823112Z",
     "shell.execute_reply": "2022-06-23T01:08:04.822338Z"
    },
    "papermill": {
     "duration": 0.040386,
     "end_time": "2022-06-23T01:08:04.825492",
     "exception": false,
     "start_time": "2022-06-23T01:08:04.785106",
     "status": "completed"
    },
    "tags": []
   },
   "outputs": [
    {
     "name": "stdout",
     "output_type": "stream",
     "text": [
      "<class 'pandas.core.frame.DataFrame'>\n",
      "Int64Index: 4608 entries, 18728 to 6435\n",
      "Data columns (total 8 columns):\n",
      " #   Column          Non-Null Count  Dtype   \n",
      "---  ------          --------------  -----   \n",
      " 0   marital-status  4608 non-null   object  \n",
      " 1   occupation      4608 non-null   object  \n",
      " 2   race            4608 non-null   object  \n",
      " 3   sex             4608 non-null   object  \n",
      " 4   native-country  4608 non-null   object  \n",
      " 5   AgeGroup        4608 non-null   category\n",
      " 6   EducationGroup  4608 non-null   category\n",
      " 7   HoursWorked     4608 non-null   category\n",
      "dtypes: category(3), object(5)\n",
      "memory usage: 230.0+ KB\n"
     ]
    }
   ],
   "source": [
    "df_test.info()"
   ]
  },
  {
   "cell_type": "markdown",
   "id": "895e2901",
   "metadata": {
    "papermill": {
     "duration": 0.020517,
     "end_time": "2022-06-23T01:08:04.865546",
     "exception": false,
     "start_time": "2022-06-23T01:08:04.845029",
     "status": "completed"
    },
    "tags": []
   },
   "source": [
    "Convert to numerical data for the models"
   ]
  },
  {
   "cell_type": "code",
   "execution_count": 20,
   "id": "2ef95c60",
   "metadata": {
    "execution": {
     "iopub.execute_input": "2022-06-23T01:08:04.907698Z",
     "iopub.status.busy": "2022-06-23T01:08:04.907031Z",
     "iopub.status.idle": "2022-06-23T01:08:04.963030Z",
     "shell.execute_reply": "2022-06-23T01:08:04.961991Z"
    },
    "papermill": {
     "duration": 0.079321,
     "end_time": "2022-06-23T01:08:04.965142",
     "exception": false,
     "start_time": "2022-06-23T01:08:04.885821",
     "status": "completed"
    },
    "tags": []
   },
   "outputs": [
    {
     "data": {
      "text/html": [
       "<div>\n",
       "<style scoped>\n",
       "    .dataframe tbody tr th:only-of-type {\n",
       "        vertical-align: middle;\n",
       "    }\n",
       "\n",
       "    .dataframe tbody tr th {\n",
       "        vertical-align: top;\n",
       "    }\n",
       "\n",
       "    .dataframe thead th {\n",
       "        text-align: right;\n",
       "    }\n",
       "</style>\n",
       "<table border=\"1\" class=\"dataframe\">\n",
       "  <thead>\n",
       "    <tr style=\"text-align: right;\">\n",
       "      <th></th>\n",
       "      <th>marital-status_ Divorced</th>\n",
       "      <th>marital-status_ Never-married</th>\n",
       "      <th>marital-status_ Separated</th>\n",
       "      <th>marital-status_ Widowed</th>\n",
       "      <th>marital-status_Married</th>\n",
       "      <th>occupation_ Adm-clerical</th>\n",
       "      <th>occupation_ Armed-Forces</th>\n",
       "      <th>occupation_ Craft-repair</th>\n",
       "      <th>occupation_ Exec-managerial</th>\n",
       "      <th>occupation_ Farming-fishing</th>\n",
       "      <th>...</th>\n",
       "      <th>AgeGroup_YoungAdult</th>\n",
       "      <th>AgeGroup_MiddleAged</th>\n",
       "      <th>AgeGroup_OlderAdult</th>\n",
       "      <th>AgeGroup_RetirementAge</th>\n",
       "      <th>EducationGroup_Low</th>\n",
       "      <th>EducationGroup_HighSchoolGrad</th>\n",
       "      <th>EducationGroup_CollegeGrad</th>\n",
       "      <th>EducationGroup_ProfessionalSchool</th>\n",
       "      <th>HoursWorked_Part-Time</th>\n",
       "      <th>HoursWorked_Full-Time</th>\n",
       "    </tr>\n",
       "  </thead>\n",
       "  <tbody>\n",
       "    <tr>\n",
       "      <th>28489</th>\n",
       "      <td>0</td>\n",
       "      <td>0</td>\n",
       "      <td>0</td>\n",
       "      <td>0</td>\n",
       "      <td>1</td>\n",
       "      <td>0</td>\n",
       "      <td>0</td>\n",
       "      <td>0</td>\n",
       "      <td>1</td>\n",
       "      <td>0</td>\n",
       "      <td>...</td>\n",
       "      <td>0</td>\n",
       "      <td>1</td>\n",
       "      <td>0</td>\n",
       "      <td>0</td>\n",
       "      <td>0</td>\n",
       "      <td>0</td>\n",
       "      <td>1</td>\n",
       "      <td>0</td>\n",
       "      <td>0</td>\n",
       "      <td>1</td>\n",
       "    </tr>\n",
       "    <tr>\n",
       "      <th>1806</th>\n",
       "      <td>0</td>\n",
       "      <td>0</td>\n",
       "      <td>0</td>\n",
       "      <td>0</td>\n",
       "      <td>1</td>\n",
       "      <td>0</td>\n",
       "      <td>0</td>\n",
       "      <td>0</td>\n",
       "      <td>0</td>\n",
       "      <td>0</td>\n",
       "      <td>...</td>\n",
       "      <td>0</td>\n",
       "      <td>0</td>\n",
       "      <td>1</td>\n",
       "      <td>0</td>\n",
       "      <td>1</td>\n",
       "      <td>0</td>\n",
       "      <td>0</td>\n",
       "      <td>0</td>\n",
       "      <td>0</td>\n",
       "      <td>1</td>\n",
       "    </tr>\n",
       "    <tr>\n",
       "      <th>4664</th>\n",
       "      <td>0</td>\n",
       "      <td>1</td>\n",
       "      <td>0</td>\n",
       "      <td>0</td>\n",
       "      <td>0</td>\n",
       "      <td>0</td>\n",
       "      <td>0</td>\n",
       "      <td>0</td>\n",
       "      <td>0</td>\n",
       "      <td>0</td>\n",
       "      <td>...</td>\n",
       "      <td>1</td>\n",
       "      <td>0</td>\n",
       "      <td>0</td>\n",
       "      <td>0</td>\n",
       "      <td>0</td>\n",
       "      <td>1</td>\n",
       "      <td>0</td>\n",
       "      <td>0</td>\n",
       "      <td>0</td>\n",
       "      <td>1</td>\n",
       "    </tr>\n",
       "    <tr>\n",
       "      <th>20313</th>\n",
       "      <td>0</td>\n",
       "      <td>1</td>\n",
       "      <td>0</td>\n",
       "      <td>0</td>\n",
       "      <td>0</td>\n",
       "      <td>0</td>\n",
       "      <td>0</td>\n",
       "      <td>0</td>\n",
       "      <td>1</td>\n",
       "      <td>0</td>\n",
       "      <td>...</td>\n",
       "      <td>1</td>\n",
       "      <td>0</td>\n",
       "      <td>0</td>\n",
       "      <td>0</td>\n",
       "      <td>0</td>\n",
       "      <td>1</td>\n",
       "      <td>0</td>\n",
       "      <td>0</td>\n",
       "      <td>0</td>\n",
       "      <td>1</td>\n",
       "    </tr>\n",
       "    <tr>\n",
       "      <th>29748</th>\n",
       "      <td>0</td>\n",
       "      <td>0</td>\n",
       "      <td>0</td>\n",
       "      <td>0</td>\n",
       "      <td>1</td>\n",
       "      <td>0</td>\n",
       "      <td>0</td>\n",
       "      <td>0</td>\n",
       "      <td>0</td>\n",
       "      <td>0</td>\n",
       "      <td>...</td>\n",
       "      <td>0</td>\n",
       "      <td>1</td>\n",
       "      <td>0</td>\n",
       "      <td>0</td>\n",
       "      <td>0</td>\n",
       "      <td>1</td>\n",
       "      <td>0</td>\n",
       "      <td>0</td>\n",
       "      <td>0</td>\n",
       "      <td>1</td>\n",
       "    </tr>\n",
       "    <tr>\n",
       "      <th>21379</th>\n",
       "      <td>0</td>\n",
       "      <td>1</td>\n",
       "      <td>0</td>\n",
       "      <td>0</td>\n",
       "      <td>0</td>\n",
       "      <td>0</td>\n",
       "      <td>0</td>\n",
       "      <td>0</td>\n",
       "      <td>0</td>\n",
       "      <td>0</td>\n",
       "      <td>...</td>\n",
       "      <td>1</td>\n",
       "      <td>0</td>\n",
       "      <td>0</td>\n",
       "      <td>0</td>\n",
       "      <td>0</td>\n",
       "      <td>0</td>\n",
       "      <td>1</td>\n",
       "      <td>0</td>\n",
       "      <td>0</td>\n",
       "      <td>1</td>\n",
       "    </tr>\n",
       "    <tr>\n",
       "      <th>11377</th>\n",
       "      <td>0</td>\n",
       "      <td>0</td>\n",
       "      <td>0</td>\n",
       "      <td>0</td>\n",
       "      <td>1</td>\n",
       "      <td>0</td>\n",
       "      <td>0</td>\n",
       "      <td>1</td>\n",
       "      <td>0</td>\n",
       "      <td>0</td>\n",
       "      <td>...</td>\n",
       "      <td>1</td>\n",
       "      <td>0</td>\n",
       "      <td>0</td>\n",
       "      <td>0</td>\n",
       "      <td>0</td>\n",
       "      <td>1</td>\n",
       "      <td>0</td>\n",
       "      <td>0</td>\n",
       "      <td>0</td>\n",
       "      <td>1</td>\n",
       "    </tr>\n",
       "    <tr>\n",
       "      <th>832</th>\n",
       "      <td>0</td>\n",
       "      <td>1</td>\n",
       "      <td>0</td>\n",
       "      <td>0</td>\n",
       "      <td>0</td>\n",
       "      <td>0</td>\n",
       "      <td>0</td>\n",
       "      <td>0</td>\n",
       "      <td>0</td>\n",
       "      <td>0</td>\n",
       "      <td>...</td>\n",
       "      <td>1</td>\n",
       "      <td>0</td>\n",
       "      <td>0</td>\n",
       "      <td>0</td>\n",
       "      <td>0</td>\n",
       "      <td>1</td>\n",
       "      <td>0</td>\n",
       "      <td>0</td>\n",
       "      <td>0</td>\n",
       "      <td>1</td>\n",
       "    </tr>\n",
       "    <tr>\n",
       "      <th>26299</th>\n",
       "      <td>0</td>\n",
       "      <td>1</td>\n",
       "      <td>0</td>\n",
       "      <td>0</td>\n",
       "      <td>0</td>\n",
       "      <td>0</td>\n",
       "      <td>0</td>\n",
       "      <td>0</td>\n",
       "      <td>0</td>\n",
       "      <td>0</td>\n",
       "      <td>...</td>\n",
       "      <td>1</td>\n",
       "      <td>0</td>\n",
       "      <td>0</td>\n",
       "      <td>0</td>\n",
       "      <td>1</td>\n",
       "      <td>0</td>\n",
       "      <td>0</td>\n",
       "      <td>0</td>\n",
       "      <td>1</td>\n",
       "      <td>0</td>\n",
       "    </tr>\n",
       "    <tr>\n",
       "      <th>15043</th>\n",
       "      <td>0</td>\n",
       "      <td>0</td>\n",
       "      <td>0</td>\n",
       "      <td>0</td>\n",
       "      <td>1</td>\n",
       "      <td>0</td>\n",
       "      <td>0</td>\n",
       "      <td>0</td>\n",
       "      <td>0</td>\n",
       "      <td>0</td>\n",
       "      <td>...</td>\n",
       "      <td>1</td>\n",
       "      <td>0</td>\n",
       "      <td>0</td>\n",
       "      <td>0</td>\n",
       "      <td>0</td>\n",
       "      <td>1</td>\n",
       "      <td>0</td>\n",
       "      <td>0</td>\n",
       "      <td>0</td>\n",
       "      <td>1</td>\n",
       "    </tr>\n",
       "    <tr>\n",
       "      <th>24350</th>\n",
       "      <td>0</td>\n",
       "      <td>1</td>\n",
       "      <td>0</td>\n",
       "      <td>0</td>\n",
       "      <td>0</td>\n",
       "      <td>0</td>\n",
       "      <td>0</td>\n",
       "      <td>0</td>\n",
       "      <td>0</td>\n",
       "      <td>0</td>\n",
       "      <td>...</td>\n",
       "      <td>0</td>\n",
       "      <td>1</td>\n",
       "      <td>0</td>\n",
       "      <td>0</td>\n",
       "      <td>0</td>\n",
       "      <td>0</td>\n",
       "      <td>1</td>\n",
       "      <td>0</td>\n",
       "      <td>0</td>\n",
       "      <td>1</td>\n",
       "    </tr>\n",
       "    <tr>\n",
       "      <th>29821</th>\n",
       "      <td>1</td>\n",
       "      <td>0</td>\n",
       "      <td>0</td>\n",
       "      <td>0</td>\n",
       "      <td>0</td>\n",
       "      <td>0</td>\n",
       "      <td>0</td>\n",
       "      <td>0</td>\n",
       "      <td>0</td>\n",
       "      <td>0</td>\n",
       "      <td>...</td>\n",
       "      <td>1</td>\n",
       "      <td>0</td>\n",
       "      <td>0</td>\n",
       "      <td>0</td>\n",
       "      <td>0</td>\n",
       "      <td>1</td>\n",
       "      <td>0</td>\n",
       "      <td>0</td>\n",
       "      <td>1</td>\n",
       "      <td>0</td>\n",
       "    </tr>\n",
       "    <tr>\n",
       "      <th>29122</th>\n",
       "      <td>0</td>\n",
       "      <td>0</td>\n",
       "      <td>0</td>\n",
       "      <td>0</td>\n",
       "      <td>1</td>\n",
       "      <td>0</td>\n",
       "      <td>0</td>\n",
       "      <td>0</td>\n",
       "      <td>1</td>\n",
       "      <td>0</td>\n",
       "      <td>...</td>\n",
       "      <td>0</td>\n",
       "      <td>1</td>\n",
       "      <td>0</td>\n",
       "      <td>0</td>\n",
       "      <td>0</td>\n",
       "      <td>1</td>\n",
       "      <td>0</td>\n",
       "      <td>0</td>\n",
       "      <td>0</td>\n",
       "      <td>1</td>\n",
       "    </tr>\n",
       "    <tr>\n",
       "      <th>3475</th>\n",
       "      <td>0</td>\n",
       "      <td>0</td>\n",
       "      <td>0</td>\n",
       "      <td>0</td>\n",
       "      <td>1</td>\n",
       "      <td>0</td>\n",
       "      <td>0</td>\n",
       "      <td>0</td>\n",
       "      <td>1</td>\n",
       "      <td>0</td>\n",
       "      <td>...</td>\n",
       "      <td>1</td>\n",
       "      <td>0</td>\n",
       "      <td>0</td>\n",
       "      <td>0</td>\n",
       "      <td>0</td>\n",
       "      <td>1</td>\n",
       "      <td>0</td>\n",
       "      <td>0</td>\n",
       "      <td>0</td>\n",
       "      <td>1</td>\n",
       "    </tr>\n",
       "    <tr>\n",
       "      <th>9568</th>\n",
       "      <td>1</td>\n",
       "      <td>0</td>\n",
       "      <td>0</td>\n",
       "      <td>0</td>\n",
       "      <td>0</td>\n",
       "      <td>0</td>\n",
       "      <td>0</td>\n",
       "      <td>0</td>\n",
       "      <td>0</td>\n",
       "      <td>0</td>\n",
       "      <td>...</td>\n",
       "      <td>0</td>\n",
       "      <td>0</td>\n",
       "      <td>0</td>\n",
       "      <td>1</td>\n",
       "      <td>1</td>\n",
       "      <td>0</td>\n",
       "      <td>0</td>\n",
       "      <td>0</td>\n",
       "      <td>0</td>\n",
       "      <td>1</td>\n",
       "    </tr>\n",
       "  </tbody>\n",
       "</table>\n",
       "<p>15 rows × 38 columns</p>\n",
       "</div>"
      ],
      "text/plain": [
       "       marital-status_ Divorced  marital-status_ Never-married  \\\n",
       "28489                         0                              0   \n",
       "1806                          0                              0   \n",
       "4664                          0                              1   \n",
       "20313                         0                              1   \n",
       "29748                         0                              0   \n",
       "21379                         0                              1   \n",
       "11377                         0                              0   \n",
       "832                           0                              1   \n",
       "26299                         0                              1   \n",
       "15043                         0                              0   \n",
       "24350                         0                              1   \n",
       "29821                         1                              0   \n",
       "29122                         0                              0   \n",
       "3475                          0                              0   \n",
       "9568                          1                              0   \n",
       "\n",
       "       marital-status_ Separated  marital-status_ Widowed  \\\n",
       "28489                          0                        0   \n",
       "1806                           0                        0   \n",
       "4664                           0                        0   \n",
       "20313                          0                        0   \n",
       "29748                          0                        0   \n",
       "21379                          0                        0   \n",
       "11377                          0                        0   \n",
       "832                            0                        0   \n",
       "26299                          0                        0   \n",
       "15043                          0                        0   \n",
       "24350                          0                        0   \n",
       "29821                          0                        0   \n",
       "29122                          0                        0   \n",
       "3475                           0                        0   \n",
       "9568                           0                        0   \n",
       "\n",
       "       marital-status_Married  occupation_ Adm-clerical  \\\n",
       "28489                       1                         0   \n",
       "1806                        1                         0   \n",
       "4664                        0                         0   \n",
       "20313                       0                         0   \n",
       "29748                       1                         0   \n",
       "21379                       0                         0   \n",
       "11377                       1                         0   \n",
       "832                         0                         0   \n",
       "26299                       0                         0   \n",
       "15043                       1                         0   \n",
       "24350                       0                         0   \n",
       "29821                       0                         0   \n",
       "29122                       1                         0   \n",
       "3475                        1                         0   \n",
       "9568                        0                         0   \n",
       "\n",
       "       occupation_ Armed-Forces  occupation_ Craft-repair  \\\n",
       "28489                         0                         0   \n",
       "1806                          0                         0   \n",
       "4664                          0                         0   \n",
       "20313                         0                         0   \n",
       "29748                         0                         0   \n",
       "21379                         0                         0   \n",
       "11377                         0                         1   \n",
       "832                           0                         0   \n",
       "26299                         0                         0   \n",
       "15043                         0                         0   \n",
       "24350                         0                         0   \n",
       "29821                         0                         0   \n",
       "29122                         0                         0   \n",
       "3475                          0                         0   \n",
       "9568                          0                         0   \n",
       "\n",
       "       occupation_ Exec-managerial  occupation_ Farming-fishing  ...  \\\n",
       "28489                            1                            0  ...   \n",
       "1806                             0                            0  ...   \n",
       "4664                             0                            0  ...   \n",
       "20313                            1                            0  ...   \n",
       "29748                            0                            0  ...   \n",
       "21379                            0                            0  ...   \n",
       "11377                            0                            0  ...   \n",
       "832                              0                            0  ...   \n",
       "26299                            0                            0  ...   \n",
       "15043                            0                            0  ...   \n",
       "24350                            0                            0  ...   \n",
       "29821                            0                            0  ...   \n",
       "29122                            1                            0  ...   \n",
       "3475                             1                            0  ...   \n",
       "9568                             0                            0  ...   \n",
       "\n",
       "       AgeGroup_YoungAdult  AgeGroup_MiddleAged  AgeGroup_OlderAdult  \\\n",
       "28489                    0                    1                    0   \n",
       "1806                     0                    0                    1   \n",
       "4664                     1                    0                    0   \n",
       "20313                    1                    0                    0   \n",
       "29748                    0                    1                    0   \n",
       "21379                    1                    0                    0   \n",
       "11377                    1                    0                    0   \n",
       "832                      1                    0                    0   \n",
       "26299                    1                    0                    0   \n",
       "15043                    1                    0                    0   \n",
       "24350                    0                    1                    0   \n",
       "29821                    1                    0                    0   \n",
       "29122                    0                    1                    0   \n",
       "3475                     1                    0                    0   \n",
       "9568                     0                    0                    0   \n",
       "\n",
       "       AgeGroup_RetirementAge  EducationGroup_Low  \\\n",
       "28489                       0                   0   \n",
       "1806                        0                   1   \n",
       "4664                        0                   0   \n",
       "20313                       0                   0   \n",
       "29748                       0                   0   \n",
       "21379                       0                   0   \n",
       "11377                       0                   0   \n",
       "832                         0                   0   \n",
       "26299                       0                   1   \n",
       "15043                       0                   0   \n",
       "24350                       0                   0   \n",
       "29821                       0                   0   \n",
       "29122                       0                   0   \n",
       "3475                        0                   0   \n",
       "9568                        1                   1   \n",
       "\n",
       "       EducationGroup_HighSchoolGrad  EducationGroup_CollegeGrad  \\\n",
       "28489                              0                           1   \n",
       "1806                               0                           0   \n",
       "4664                               1                           0   \n",
       "20313                              1                           0   \n",
       "29748                              1                           0   \n",
       "21379                              0                           1   \n",
       "11377                              1                           0   \n",
       "832                                1                           0   \n",
       "26299                              0                           0   \n",
       "15043                              1                           0   \n",
       "24350                              0                           1   \n",
       "29821                              1                           0   \n",
       "29122                              1                           0   \n",
       "3475                               1                           0   \n",
       "9568                               0                           0   \n",
       "\n",
       "       EducationGroup_ProfessionalSchool  HoursWorked_Part-Time  \\\n",
       "28489                                  0                      0   \n",
       "1806                                   0                      0   \n",
       "4664                                   0                      0   \n",
       "20313                                  0                      0   \n",
       "29748                                  0                      0   \n",
       "21379                                  0                      0   \n",
       "11377                                  0                      0   \n",
       "832                                    0                      0   \n",
       "26299                                  0                      1   \n",
       "15043                                  0                      0   \n",
       "24350                                  0                      0   \n",
       "29821                                  0                      1   \n",
       "29122                                  0                      0   \n",
       "3475                                   0                      0   \n",
       "9568                                   0                      0   \n",
       "\n",
       "       HoursWorked_Full-Time  \n",
       "28489                      1  \n",
       "1806                       1  \n",
       "4664                       1  \n",
       "20313                      1  \n",
       "29748                      1  \n",
       "21379                      1  \n",
       "11377                      1  \n",
       "832                        1  \n",
       "26299                      0  \n",
       "15043                      1  \n",
       "24350                      1  \n",
       "29821                      0  \n",
       "29122                      1  \n",
       "3475                       1  \n",
       "9568                       1  \n",
       "\n",
       "[15 rows x 38 columns]"
      ]
     },
     "execution_count": 20,
     "metadata": {},
     "output_type": "execute_result"
    }
   ],
   "source": [
    "df_train = dummy_variables(df_train)\n",
    "df_train.head(15)"
   ]
  },
  {
   "cell_type": "code",
   "execution_count": 21,
   "id": "4a81f2b5",
   "metadata": {
    "execution": {
     "iopub.execute_input": "2022-06-23T01:08:05.008147Z",
     "iopub.status.busy": "2022-06-23T01:08:05.007718Z",
     "iopub.status.idle": "2022-06-23T01:08:05.040026Z",
     "shell.execute_reply": "2022-06-23T01:08:05.039095Z"
    },
    "papermill": {
     "duration": 0.057009,
     "end_time": "2022-06-23T01:08:05.042201",
     "exception": false,
     "start_time": "2022-06-23T01:08:04.985192",
     "status": "completed"
    },
    "tags": []
   },
   "outputs": [
    {
     "data": {
      "text/html": [
       "<div>\n",
       "<style scoped>\n",
       "    .dataframe tbody tr th:only-of-type {\n",
       "        vertical-align: middle;\n",
       "    }\n",
       "\n",
       "    .dataframe tbody tr th {\n",
       "        vertical-align: top;\n",
       "    }\n",
       "\n",
       "    .dataframe thead th {\n",
       "        text-align: right;\n",
       "    }\n",
       "</style>\n",
       "<table border=\"1\" class=\"dataframe\">\n",
       "  <thead>\n",
       "    <tr style=\"text-align: right;\">\n",
       "      <th></th>\n",
       "      <th>marital-status_ Divorced</th>\n",
       "      <th>marital-status_ Never-married</th>\n",
       "      <th>marital-status_ Separated</th>\n",
       "      <th>marital-status_ Widowed</th>\n",
       "      <th>marital-status_Married</th>\n",
       "      <th>occupation_ Adm-clerical</th>\n",
       "      <th>occupation_ Armed-Forces</th>\n",
       "      <th>occupation_ Craft-repair</th>\n",
       "      <th>occupation_ Exec-managerial</th>\n",
       "      <th>occupation_ Farming-fishing</th>\n",
       "      <th>...</th>\n",
       "      <th>AgeGroup_YoungAdult</th>\n",
       "      <th>AgeGroup_MiddleAged</th>\n",
       "      <th>AgeGroup_OlderAdult</th>\n",
       "      <th>AgeGroup_RetirementAge</th>\n",
       "      <th>EducationGroup_Low</th>\n",
       "      <th>EducationGroup_HighSchoolGrad</th>\n",
       "      <th>EducationGroup_CollegeGrad</th>\n",
       "      <th>EducationGroup_ProfessionalSchool</th>\n",
       "      <th>HoursWorked_Part-Time</th>\n",
       "      <th>HoursWorked_Full-Time</th>\n",
       "    </tr>\n",
       "  </thead>\n",
       "  <tbody>\n",
       "    <tr>\n",
       "      <th>18728</th>\n",
       "      <td>1</td>\n",
       "      <td>0</td>\n",
       "      <td>0</td>\n",
       "      <td>0</td>\n",
       "      <td>0</td>\n",
       "      <td>0</td>\n",
       "      <td>0</td>\n",
       "      <td>0</td>\n",
       "      <td>0</td>\n",
       "      <td>0</td>\n",
       "      <td>...</td>\n",
       "      <td>0</td>\n",
       "      <td>0</td>\n",
       "      <td>1</td>\n",
       "      <td>0</td>\n",
       "      <td>0</td>\n",
       "      <td>0</td>\n",
       "      <td>1</td>\n",
       "      <td>0</td>\n",
       "      <td>0</td>\n",
       "      <td>1</td>\n",
       "    </tr>\n",
       "    <tr>\n",
       "      <th>295</th>\n",
       "      <td>0</td>\n",
       "      <td>0</td>\n",
       "      <td>0</td>\n",
       "      <td>0</td>\n",
       "      <td>1</td>\n",
       "      <td>0</td>\n",
       "      <td>0</td>\n",
       "      <td>0</td>\n",
       "      <td>0</td>\n",
       "      <td>0</td>\n",
       "      <td>...</td>\n",
       "      <td>0</td>\n",
       "      <td>0</td>\n",
       "      <td>1</td>\n",
       "      <td>0</td>\n",
       "      <td>0</td>\n",
       "      <td>1</td>\n",
       "      <td>0</td>\n",
       "      <td>0</td>\n",
       "      <td>1</td>\n",
       "      <td>0</td>\n",
       "    </tr>\n",
       "    <tr>\n",
       "      <th>11999</th>\n",
       "      <td>0</td>\n",
       "      <td>0</td>\n",
       "      <td>0</td>\n",
       "      <td>0</td>\n",
       "      <td>1</td>\n",
       "      <td>0</td>\n",
       "      <td>0</td>\n",
       "      <td>0</td>\n",
       "      <td>1</td>\n",
       "      <td>0</td>\n",
       "      <td>...</td>\n",
       "      <td>0</td>\n",
       "      <td>1</td>\n",
       "      <td>0</td>\n",
       "      <td>0</td>\n",
       "      <td>0</td>\n",
       "      <td>0</td>\n",
       "      <td>0</td>\n",
       "      <td>1</td>\n",
       "      <td>0</td>\n",
       "      <td>1</td>\n",
       "    </tr>\n",
       "    <tr>\n",
       "      <th>22610</th>\n",
       "      <td>0</td>\n",
       "      <td>0</td>\n",
       "      <td>0</td>\n",
       "      <td>0</td>\n",
       "      <td>1</td>\n",
       "      <td>0</td>\n",
       "      <td>0</td>\n",
       "      <td>1</td>\n",
       "      <td>0</td>\n",
       "      <td>0</td>\n",
       "      <td>...</td>\n",
       "      <td>0</td>\n",
       "      <td>1</td>\n",
       "      <td>0</td>\n",
       "      <td>0</td>\n",
       "      <td>0</td>\n",
       "      <td>1</td>\n",
       "      <td>0</td>\n",
       "      <td>0</td>\n",
       "      <td>0</td>\n",
       "      <td>1</td>\n",
       "    </tr>\n",
       "    <tr>\n",
       "      <th>14905</th>\n",
       "      <td>1</td>\n",
       "      <td>0</td>\n",
       "      <td>0</td>\n",
       "      <td>0</td>\n",
       "      <td>0</td>\n",
       "      <td>0</td>\n",
       "      <td>0</td>\n",
       "      <td>0</td>\n",
       "      <td>0</td>\n",
       "      <td>0</td>\n",
       "      <td>...</td>\n",
       "      <td>0</td>\n",
       "      <td>0</td>\n",
       "      <td>1</td>\n",
       "      <td>0</td>\n",
       "      <td>1</td>\n",
       "      <td>0</td>\n",
       "      <td>0</td>\n",
       "      <td>0</td>\n",
       "      <td>1</td>\n",
       "      <td>0</td>\n",
       "    </tr>\n",
       "  </tbody>\n",
       "</table>\n",
       "<p>5 rows × 38 columns</p>\n",
       "</div>"
      ],
      "text/plain": [
       "       marital-status_ Divorced  marital-status_ Never-married  \\\n",
       "18728                         1                              0   \n",
       "295                           0                              0   \n",
       "11999                         0                              0   \n",
       "22610                         0                              0   \n",
       "14905                         1                              0   \n",
       "\n",
       "       marital-status_ Separated  marital-status_ Widowed  \\\n",
       "18728                          0                        0   \n",
       "295                            0                        0   \n",
       "11999                          0                        0   \n",
       "22610                          0                        0   \n",
       "14905                          0                        0   \n",
       "\n",
       "       marital-status_Married  occupation_ Adm-clerical  \\\n",
       "18728                       0                         0   \n",
       "295                         1                         0   \n",
       "11999                       1                         0   \n",
       "22610                       1                         0   \n",
       "14905                       0                         0   \n",
       "\n",
       "       occupation_ Armed-Forces  occupation_ Craft-repair  \\\n",
       "18728                         0                         0   \n",
       "295                           0                         0   \n",
       "11999                         0                         0   \n",
       "22610                         0                         1   \n",
       "14905                         0                         0   \n",
       "\n",
       "       occupation_ Exec-managerial  occupation_ Farming-fishing  ...  \\\n",
       "18728                            0                            0  ...   \n",
       "295                              0                            0  ...   \n",
       "11999                            1                            0  ...   \n",
       "22610                            0                            0  ...   \n",
       "14905                            0                            0  ...   \n",
       "\n",
       "       AgeGroup_YoungAdult  AgeGroup_MiddleAged  AgeGroup_OlderAdult  \\\n",
       "18728                    0                    0                    1   \n",
       "295                      0                    0                    1   \n",
       "11999                    0                    1                    0   \n",
       "22610                    0                    1                    0   \n",
       "14905                    0                    0                    1   \n",
       "\n",
       "       AgeGroup_RetirementAge  EducationGroup_Low  \\\n",
       "18728                       0                   0   \n",
       "295                         0                   0   \n",
       "11999                       0                   0   \n",
       "22610                       0                   0   \n",
       "14905                       0                   1   \n",
       "\n",
       "       EducationGroup_HighSchoolGrad  EducationGroup_CollegeGrad  \\\n",
       "18728                              0                           1   \n",
       "295                                1                           0   \n",
       "11999                              0                           0   \n",
       "22610                              1                           0   \n",
       "14905                              0                           0   \n",
       "\n",
       "       EducationGroup_ProfessionalSchool  HoursWorked_Part-Time  \\\n",
       "18728                                  0                      0   \n",
       "295                                    0                      1   \n",
       "11999                                  1                      0   \n",
       "22610                                  0                      0   \n",
       "14905                                  0                      1   \n",
       "\n",
       "       HoursWorked_Full-Time  \n",
       "18728                      1  \n",
       "295                        0  \n",
       "11999                      1  \n",
       "22610                      1  \n",
       "14905                      0  \n",
       "\n",
       "[5 rows x 38 columns]"
      ]
     },
     "execution_count": 21,
     "metadata": {},
     "output_type": "execute_result"
    }
   ],
   "source": [
    "df_test = dummy_variables(df_test)\n",
    "df_test.head()"
   ]
  },
  {
   "cell_type": "markdown",
   "id": "2d27a429",
   "metadata": {
    "papermill": {
     "duration": 0.020587,
     "end_time": "2022-06-23T01:08:05.086113",
     "exception": false,
     "start_time": "2022-06-23T01:08:05.065526",
     "status": "completed"
    },
    "tags": []
   },
   "source": [
    "\n",
    "IDENTIFY PROMISING MODELS\n",
    "- Train multiple models from different categories (linear, naïve Bayes, SVM, Random Forest, etc) using standard parameters\n",
    "- Measure and compare model performance\n",
    "- Identify significant variables for each model\n",
    "- Analyze model errors\n",
    "- Revise feature selection and feature engineering\n",
    "- Identify the top models"
   ]
  },
  {
   "cell_type": "code",
   "execution_count": 22,
   "id": "63e653b3",
   "metadata": {
    "execution": {
     "iopub.execute_input": "2022-06-23T01:08:05.129488Z",
     "iopub.status.busy": "2022-06-23T01:08:05.129054Z",
     "iopub.status.idle": "2022-06-23T01:08:05.139418Z",
     "shell.execute_reply": "2022-06-23T01:08:05.138350Z"
    },
    "papermill": {
     "duration": 0.034433,
     "end_time": "2022-06-23T01:08:05.141856",
     "exception": false,
     "start_time": "2022-06-23T01:08:05.107423",
     "status": "completed"
    },
    "tags": []
   },
   "outputs": [],
   "source": [
    "y_test = pd.get_dummies(y_test, drop_first=True)\n",
    "y_train = pd.get_dummies(y_train, drop_first=True)"
   ]
  },
  {
   "cell_type": "markdown",
   "id": "217e7150",
   "metadata": {
    "papermill": {
     "duration": 0.020317,
     "end_time": "2022-06-23T01:08:05.183183",
     "exception": false,
     "start_time": "2022-06-23T01:08:05.162866",
     "status": "completed"
    },
    "tags": []
   },
   "source": [
    "Naive Bayes"
   ]
  },
  {
   "cell_type": "code",
   "execution_count": 23,
   "id": "0eb628d0",
   "metadata": {
    "execution": {
     "iopub.execute_input": "2022-06-23T01:08:05.231594Z",
     "iopub.status.busy": "2022-06-23T01:08:05.231157Z",
     "iopub.status.idle": "2022-06-23T01:08:05.273229Z",
     "shell.execute_reply": "2022-06-23T01:08:05.271529Z"
    },
    "papermill": {
     "duration": 0.073363,
     "end_time": "2022-06-23T01:08:05.278231",
     "exception": false,
     "start_time": "2022-06-23T01:08:05.204868",
     "status": "completed"
    },
    "tags": []
   },
   "outputs": [
    {
     "name": "stdout",
     "output_type": "stream",
     "text": [
      "0.8094618055555556\n"
     ]
    },
    {
     "name": "stderr",
     "output_type": "stream",
     "text": [
      "/opt/conda/lib/python3.7/site-packages/sklearn/utils/validation.py:993: DataConversionWarning: A column-vector y was passed when a 1d array was expected. Please change the shape of y to (n_samples, ), for example using ravel().\n",
      "  y = column_or_1d(y, warn=True)\n"
     ]
    }
   ],
   "source": [
    "nb_classifier = MultinomialNB()\n",
    "nb_classifier.fit(df_train, y_train)\n",
    "\n",
    "pred = nb_classifier.predict(df_test)\n",
    "\n",
    "score = metrics.accuracy_score(y_test, pred)\n",
    "print(score)"
   ]
  },
  {
   "cell_type": "code",
   "execution_count": 24,
   "id": "16eea388",
   "metadata": {
    "execution": {
     "iopub.execute_input": "2022-06-23T01:08:05.361830Z",
     "iopub.status.busy": "2022-06-23T01:08:05.361094Z",
     "iopub.status.idle": "2022-06-23T01:08:05.377517Z",
     "shell.execute_reply": "2022-06-23T01:08:05.376307Z"
    },
    "papermill": {
     "duration": 0.063102,
     "end_time": "2022-06-23T01:08:05.381933",
     "exception": false,
     "start_time": "2022-06-23T01:08:05.318831",
     "status": "completed"
    },
    "tags": []
   },
   "outputs": [
    {
     "name": "stdout",
     "output_type": "stream",
     "text": [
      "[[2954  493]\n",
      " [ 385  776]]\n"
     ]
    }
   ],
   "source": [
    "cm = metrics.confusion_matrix(y_test, pred)\n",
    "print(cm)"
   ]
  },
  {
   "cell_type": "code",
   "execution_count": 25,
   "id": "ff765de8",
   "metadata": {
    "execution": {
     "iopub.execute_input": "2022-06-23T01:08:05.428700Z",
     "iopub.status.busy": "2022-06-23T01:08:05.428284Z",
     "iopub.status.idle": "2022-06-23T01:08:05.603524Z",
     "shell.execute_reply": "2022-06-23T01:08:05.602444Z"
    },
    "papermill": {
     "duration": 0.201108,
     "end_time": "2022-06-23T01:08:05.606074",
     "exception": false,
     "start_time": "2022-06-23T01:08:05.404966",
     "status": "completed"
    },
    "tags": []
   },
   "outputs": [
    {
     "data": {
      "image/png": "[encoded data removed]",
      "text/plain": [
       "<Figure size 432x288 with 2 Axes>"
      ]
     },
     "metadata": {
      "needs_background": "light"
     },
     "output_type": "display_data"
    }
   ],
   "source": [
    "disp = metrics.ConfusionMatrixDisplay(cm, display_labels=['<=50', '>50'])\n",
    "disp.plot(cmap=plt.cm.Blues)\n",
    "plt.show()"
   ]
  },
  {
   "cell_type": "markdown",
   "id": "4a000c16",
   "metadata": {
    "papermill": {
     "duration": 0.021925,
     "end_time": "2022-06-23T01:08:05.649828",
     "exception": false,
     "start_time": "2022-06-23T01:08:05.627903",
     "status": "completed"
    },
    "tags": []
   },
   "source": [
    "Descision Tree"
   ]
  },
  {
   "cell_type": "code",
   "execution_count": 26,
   "id": "df591469",
   "metadata": {
    "execution": {
     "iopub.execute_input": "2022-06-23T01:08:05.697561Z",
     "iopub.status.busy": "2022-06-23T01:08:05.697093Z",
     "iopub.status.idle": "2022-06-23T01:08:05.734137Z",
     "shell.execute_reply": "2022-06-23T01:08:05.733162Z"
    },
    "papermill": {
     "duration": 0.063727,
     "end_time": "2022-06-23T01:08:05.736709",
     "exception": false,
     "start_time": "2022-06-23T01:08:05.672982",
     "status": "completed"
    },
    "tags": []
   },
   "outputs": [
    {
     "data": {
      "text/plain": [
       "DecisionTreeClassifier(max_depth=3)"
      ]
     },
     "execution_count": 26,
     "metadata": {},
     "output_type": "execute_result"
    }
   ],
   "source": [
    "x = df_train.values\n",
    "test = df_test.values\n",
    "y = y_train.values\n",
    "\n",
    "clf = tree.DecisionTreeClassifier(max_depth = 3)\n",
    "clf.fit(x,y)"
   ]
  },
  {
   "cell_type": "code",
   "execution_count": 27,
   "id": "f08da672",
   "metadata": {
    "execution": {
     "iopub.execute_input": "2022-06-23T01:08:05.788867Z",
     "iopub.status.busy": "2022-06-23T01:08:05.787446Z",
     "iopub.status.idle": "2022-06-23T01:08:07.206461Z",
     "shell.execute_reply": "2022-06-23T01:08:07.205319Z"
    },
    "papermill": {
     "duration": 1.446879,
     "end_time": "2022-06-23T01:08:07.208991",
     "exception": false,
     "start_time": "2022-06-23T01:08:05.762112",
     "status": "completed"
    },
    "tags": []
   },
   "outputs": [
    {
     "data": {
      "image/png": "[encoded data removed]",
      "text/plain": [
       "<Figure size 1800x1440 with 1 Axes>"
      ]
     },
     "metadata": {
      "needs_background": "light"
     },
     "output_type": "display_data"
    }
   ],
   "source": [
    "y_pred = clf.predict(test)\n",
    "fig = plt.figure(figsize=(25,20))\n",
    "tree.plot_tree(clf, feature_names=df_train.columns, class_names=['<=50', '>50'], filled=True)\n",
    "fig.savefig(\"decistion_tree.png\")"
   ]
  },
  {
   "cell_type": "code",
   "execution_count": 28,
   "id": "dafdeda6",
   "metadata": {
    "execution": {
     "iopub.execute_input": "2022-06-23T01:08:07.260798Z",
     "iopub.status.busy": "2022-06-23T01:08:07.259707Z",
     "iopub.status.idle": "2022-06-23T01:08:07.275519Z",
     "shell.execute_reply": "2022-06-23T01:08:07.274176Z"
    },
    "papermill": {
     "duration": 0.043677,
     "end_time": "2022-06-23T01:08:07.277797",
     "exception": false,
     "start_time": "2022-06-23T01:08:07.234120",
     "status": "completed"
    },
    "tags": []
   },
   "outputs": [
    {
     "name": "stderr",
     "output_type": "stream",
     "text": [
      "/opt/conda/lib/python3.7/site-packages/sklearn/base.py:444: UserWarning: X has feature names, but DecisionTreeClassifier was fitted without feature names\n",
      "  f\"X has feature names, but {self.__class__.__name__} was fitted without\"\n"
     ]
    },
    {
     "data": {
      "text/plain": [
       "0.8075086805555556"
      ]
     },
     "execution_count": 28,
     "metadata": {},
     "output_type": "execute_result"
    }
   ],
   "source": [
    "clf.score(df_test, y_test)"
   ]
  },
  {
   "cell_type": "markdown",
   "id": "b52001b8",
   "metadata": {
    "papermill": {
     "duration": 0.023887,
     "end_time": "2022-06-23T01:08:07.325299",
     "exception": false,
     "start_time": "2022-06-23T01:08:07.301412",
     "status": "completed"
    },
    "tags": []
   },
   "source": [
    "Random Forest"
   ]
  },
  {
   "cell_type": "code",
   "execution_count": 29,
   "id": "a39b6e9f",
   "metadata": {
    "execution": {
     "iopub.execute_input": "2022-06-23T01:08:07.376923Z",
     "iopub.status.busy": "2022-06-23T01:08:07.376355Z",
     "iopub.status.idle": "2022-06-23T01:08:09.437775Z",
     "shell.execute_reply": "2022-06-23T01:08:09.436900Z"
    },
    "papermill": {
     "duration": 2.089911,
     "end_time": "2022-06-23T01:08:09.439874",
     "exception": false,
     "start_time": "2022-06-23T01:08:07.349963",
     "status": "completed"
    },
    "tags": []
   },
   "outputs": [
    {
     "name": "stderr",
     "output_type": "stream",
     "text": [
      "/opt/conda/lib/python3.7/site-packages/ipykernel_launcher.py:6: DataConversionWarning: A column-vector y was passed when a 1d array was expected. Please change the shape of y to (n_samples,), for example using ravel().\n",
      "  \n"
     ]
    },
    {
     "data": {
      "text/plain": [
       "RandomForestClassifier(max_depth=3, n_estimators=300)"
      ]
     },
     "execution_count": 29,
     "metadata": {},
     "output_type": "execute_result"
    }
   ],
   "source": [
    "x = df_train.values\n",
    "test = df_test.values\n",
    "y = y_train.values\n",
    "\n",
    "model = RandomForestClassifier(n_estimators=300, max_depth=3)\n",
    "model.fit(x, y)"
   ]
  },
  {
   "cell_type": "code",
   "execution_count": 30,
   "id": "f97efd7a",
   "metadata": {
    "execution": {
     "iopub.execute_input": "2022-06-23T01:08:09.491321Z",
     "iopub.status.busy": "2022-06-23T01:08:09.490734Z",
     "iopub.status.idle": "2022-06-23T01:08:09.633626Z",
     "shell.execute_reply": "2022-06-23T01:08:09.632434Z"
    },
    "papermill": {
     "duration": 0.172155,
     "end_time": "2022-06-23T01:08:09.636101",
     "exception": false,
     "start_time": "2022-06-23T01:08:09.463946",
     "status": "completed"
    },
    "tags": []
   },
   "outputs": [
    {
     "name": "stdout",
     "output_type": "stream",
     "text": [
      "[[3403   44]\n",
      " [1011  150]]\n"
     ]
    },
    {
     "name": "stderr",
     "output_type": "stream",
     "text": [
      "/opt/conda/lib/python3.7/site-packages/sklearn/base.py:444: UserWarning: X has feature names, but RandomForestClassifier was fitted without feature names\n",
      "  f\"X has feature names, but {self.__class__.__name__} was fitted without\"\n"
     ]
    }
   ],
   "source": [
    "y_pred = model.predict(df_test)\n",
    "cm = metrics.confusion_matrix(y_test, y_pred)\n",
    "print(cm)"
   ]
  },
  {
   "cell_type": "code",
   "execution_count": 31,
   "id": "a4c987b8",
   "metadata": {
    "execution": {
     "iopub.execute_input": "2022-06-23T01:08:09.684739Z",
     "iopub.status.busy": "2022-06-23T01:08:09.684320Z",
     "iopub.status.idle": "2022-06-23T01:08:09.902875Z",
     "shell.execute_reply": "2022-06-23T01:08:09.902109Z"
    },
    "papermill": {
     "duration": 0.245533,
     "end_time": "2022-06-23T01:08:09.904986",
     "exception": false,
     "start_time": "2022-06-23T01:08:09.659453",
     "status": "completed"
    },
    "tags": []
   },
   "outputs": [
    {
     "data": {
      "image/png": "[encoded data removed]",
      "text/plain": [
       "<Figure size 432x288 with 2 Axes>"
      ]
     },
     "metadata": {
      "needs_background": "light"
     },
     "output_type": "display_data"
    }
   ],
   "source": [
    "disp = metrics.ConfusionMatrixDisplay(cm, display_labels=['<=50', '>50'])\n",
    "disp.plot(cmap=plt.cm.Blues)\n",
    "plt.show()"
   ]
  },
  {
   "cell_type": "code",
   "execution_count": 32,
   "id": "d8c57011",
   "metadata": {
    "execution": {
     "iopub.execute_input": "2022-06-23T01:08:09.955208Z",
     "iopub.status.busy": "2022-06-23T01:08:09.954641Z",
     "iopub.status.idle": "2022-06-23T01:08:10.103375Z",
     "shell.execute_reply": "2022-06-23T01:08:10.102121Z"
    },
    "papermill": {
     "duration": 0.175967,
     "end_time": "2022-06-23T01:08:10.105491",
     "exception": false,
     "start_time": "2022-06-23T01:08:09.929524",
     "status": "completed"
    },
    "tags": []
   },
   "outputs": [
    {
     "name": "stderr",
     "output_type": "stream",
     "text": [
      "/opt/conda/lib/python3.7/site-packages/sklearn/base.py:444: UserWarning: X has feature names, but RandomForestClassifier was fitted without feature names\n",
      "  f\"X has feature names, but {self.__class__.__name__} was fitted without\"\n"
     ]
    },
    {
     "data": {
      "text/plain": [
       "0.7710503472222222"
      ]
     },
     "execution_count": 32,
     "metadata": {},
     "output_type": "execute_result"
    }
   ],
   "source": [
    "model.score(df_test, y_test)"
   ]
  },
  {
   "cell_type": "markdown",
   "id": "d071f7c8",
   "metadata": {
    "papermill": {
     "duration": 0.023764,
     "end_time": "2022-06-23T01:08:10.153103",
     "exception": false,
     "start_time": "2022-06-23T01:08:10.129339",
     "status": "completed"
    },
    "tags": []
   },
   "source": [
    "We explored using a couple different classification models. First we tried out the Naive Bayes, then the Decision Trees and the Random Forest. The Naive Bayes and the Decision Tree were equally as accurate, So we decided to move foward with the Random Forest model. The Random Forest model looks at multiple decision trees to get an average before classifying. For our data, we thought this would provide the most accurate classifications with some tuning. "
   ]
  },
  {
   "cell_type": "markdown",
   "id": "f0239706",
   "metadata": {
    "papermill": {
     "duration": 0.02397,
     "end_time": "2022-06-23T01:08:10.201579",
     "exception": false,
     "start_time": "2022-06-23T01:08:10.177609",
     "status": "completed"
    },
    "tags": []
   },
   "source": [
    "TUNE THE MODELS \n",
    "- Tune the hyperpatameters\n",
    "- Consider combining the best models \n",
    "- Measure perofrmance of final model"
   ]
  },
  {
   "cell_type": "code",
   "execution_count": 33,
   "id": "7809e5c9",
   "metadata": {
    "execution": {
     "iopub.execute_input": "2022-06-23T01:08:10.252962Z",
     "iopub.status.busy": "2022-06-23T01:08:10.252557Z",
     "iopub.status.idle": "2022-06-23T01:08:10.803249Z",
     "shell.execute_reply": "2022-06-23T01:08:10.802086Z"
    },
    "papermill": {
     "duration": 0.580055,
     "end_time": "2022-06-23T01:08:10.806138",
     "exception": false,
     "start_time": "2022-06-23T01:08:10.226083",
     "status": "completed"
    },
    "tags": []
   },
   "outputs": [
    {
     "data": {
      "image/png": "[encoded data removed]",
      "text/plain": [
       "<Figure size 432x288 with 1 Axes>"
      ]
     },
     "metadata": {
      "needs_background": "light"
     },
     "output_type": "display_data"
    }
   ],
   "source": [
    "# Setup arrays to store train and test accuracies\n",
    "dep = np.arange(1, 9)\n",
    "train_accuracy = np.empty(len(dep))\n",
    "test_accuracy = np.empty(len(dep))\n",
    "\n",
    "# Loop over different values of k\n",
    "for i, k in enumerate(dep):\n",
    "    # Setup a k-NN Classifier with k neighbors: knn\n",
    "    clf = tree.DecisionTreeClassifier(max_depth=k)\n",
    "\n",
    "    # Fit the classifier to the training data\n",
    "    clf.fit(df_train, y_train)\n",
    "    \n",
    "    #Compute accuracy on the training set\n",
    "    train_accuracy[i] = clf.score(df_train, y_train)\n",
    "\n",
    "    #Compute accuracy on the testing set\n",
    "    test_accuracy[i] = clf.score(df_test, y_test)\n",
    "\n",
    "# Generate plot\n",
    "plt.title('clf: Varying depth of tree')\n",
    "plt.plot(dep, test_accuracy, label = 'Testing Accuracy')\n",
    "plt.plot(dep, train_accuracy, label = 'Training Accuracy')\n",
    "plt.legend()\n",
    "plt.xlabel('Depth of tree')\n",
    "plt.ylabel('Accuracy')\n",
    "plt.show()"
   ]
  },
  {
   "cell_type": "code",
   "execution_count": 34,
   "id": "c9a8afa4",
   "metadata": {
    "execution": {
     "iopub.execute_input": "2022-06-23T01:08:10.857727Z",
     "iopub.status.busy": "2022-06-23T01:08:10.856797Z",
     "iopub.status.idle": "2022-06-23T01:08:37.430973Z",
     "shell.execute_reply": "2022-06-23T01:08:37.429413Z"
    },
    "papermill": {
     "duration": 26.602992,
     "end_time": "2022-06-23T01:08:37.433732",
     "exception": false,
     "start_time": "2022-06-23T01:08:10.830740",
     "status": "completed"
    },
    "tags": []
   },
   "outputs": [
    {
     "name": "stderr",
     "output_type": "stream",
     "text": [
      "/opt/conda/lib/python3.7/site-packages/ipykernel_launcher.py:12: DataConversionWarning: A column-vector y was passed when a 1d array was expected. Please change the shape of y to (n_samples,), for example using ravel().\n",
      "  if sys.path[0] == \"\":\n",
      "/opt/conda/lib/python3.7/site-packages/ipykernel_launcher.py:12: DataConversionWarning: A column-vector y was passed when a 1d array was expected. Please change the shape of y to (n_samples,), for example using ravel().\n",
      "  if sys.path[0] == \"\":\n",
      "/opt/conda/lib/python3.7/site-packages/ipykernel_launcher.py:12: DataConversionWarning: A column-vector y was passed when a 1d array was expected. Please change the shape of y to (n_samples,), for example using ravel().\n",
      "  if sys.path[0] == \"\":\n",
      "/opt/conda/lib/python3.7/site-packages/ipykernel_launcher.py:12: DataConversionWarning: A column-vector y was passed when a 1d array was expected. Please change the shape of y to (n_samples,), for example using ravel().\n",
      "  if sys.path[0] == \"\":\n",
      "/opt/conda/lib/python3.7/site-packages/ipykernel_launcher.py:12: DataConversionWarning: A column-vector y was passed when a 1d array was expected. Please change the shape of y to (n_samples,), for example using ravel().\n",
      "  if sys.path[0] == \"\":\n",
      "/opt/conda/lib/python3.7/site-packages/ipykernel_launcher.py:12: DataConversionWarning: A column-vector y was passed when a 1d array was expected. Please change the shape of y to (n_samples,), for example using ravel().\n",
      "  if sys.path[0] == \"\":\n"
     ]
    },
    {
     "data": {
      "image/png": "[encoded data removed]",
      "text/plain": [
       "<Figure size 432x288 with 1 Axes>"
      ]
     },
     "metadata": {
      "needs_background": "light"
     },
     "output_type": "display_data"
    }
   ],
   "source": [
    "# Setup arrays to store train and test accuracies\n",
    "dep = [100, 200, 300, 400, 500, 600]\n",
    "train_accuracy = np.empty(len(dep))\n",
    "test_accuracy = np.empty(len(dep))\n",
    "\n",
    "# Loop over different values of k\n",
    "for i, k in enumerate(dep):\n",
    "    # Setup a k-NN Classifier with k neighbors: knn\n",
    "    clf = RandomForestClassifier(n_estimators=k, max_depth=6, random_state=17)\n",
    "\n",
    "    # Fit the classifier to the training data\n",
    "    clf.fit(df_train, y_train)\n",
    "    \n",
    "    #Compute accuracy on the training set\n",
    "    train_accuracy[i] = clf.score(df_train, y_train)\n",
    "\n",
    "    #Compute accuracy on the testing set\n",
    "    test_accuracy[i] = clf.score(df_test, y_test)\n",
    "\n",
    "# Generate plot\n",
    "plt.title('clf: Varying Number of Estimators')\n",
    "plt.plot(dep, test_accuracy, label = 'Testing Accuracy')\n",
    "plt.plot(dep, train_accuracy, label = 'Training Accuracy')\n",
    "plt.legend()\n",
    "plt.xlabel('Number of Estimators')\n",
    "plt.ylabel('Accuracy')\n",
    "plt.show()"
   ]
  },
  {
   "cell_type": "code",
   "execution_count": 35,
   "id": "cb36cd04",
   "metadata": {
    "execution": {
     "iopub.execute_input": "2022-06-23T01:08:37.494373Z",
     "iopub.status.busy": "2022-06-23T01:08:37.493950Z",
     "iopub.status.idle": "2022-06-23T01:08:41.077597Z",
     "shell.execute_reply": "2022-06-23T01:08:41.076562Z"
    },
    "papermill": {
     "duration": 3.616201,
     "end_time": "2022-06-23T01:08:41.079623",
     "exception": false,
     "start_time": "2022-06-23T01:08:37.463422",
     "status": "completed"
    },
    "tags": []
   },
   "outputs": [
    {
     "name": "stderr",
     "output_type": "stream",
     "text": [
      "/opt/conda/lib/python3.7/site-packages/ipykernel_launcher.py:6: DataConversionWarning: A column-vector y was passed when a 1d array was expected. Please change the shape of y to (n_samples,), for example using ravel().\n",
      "  \n"
     ]
    },
    {
     "data": {
      "text/plain": [
       "RandomForestClassifier(max_depth=6, n_estimators=400)"
      ]
     },
     "execution_count": 35,
     "metadata": {},
     "output_type": "execute_result"
    }
   ],
   "source": [
    "x = df_train.values\n",
    "test = df_test.values\n",
    "y = y_train.values\n",
    "\n",
    "finalmodel = RandomForestClassifier(n_estimators=400, max_depth=6)\n",
    "finalmodel.fit(x, y)"
   ]
  },
  {
   "cell_type": "code",
   "execution_count": 36,
   "id": "2a8d799c",
   "metadata": {
    "execution": {
     "iopub.execute_input": "2022-06-23T01:08:41.133832Z",
     "iopub.status.busy": "2022-06-23T01:08:41.133102Z",
     "iopub.status.idle": "2022-06-23T01:08:41.376555Z",
     "shell.execute_reply": "2022-06-23T01:08:41.375080Z"
    },
    "papermill": {
     "duration": 0.273113,
     "end_time": "2022-06-23T01:08:41.379258",
     "exception": false,
     "start_time": "2022-06-23T01:08:41.106145",
     "status": "completed"
    },
    "tags": []
   },
   "outputs": [
    {
     "name": "stderr",
     "output_type": "stream",
     "text": [
      "/opt/conda/lib/python3.7/site-packages/sklearn/base.py:444: UserWarning: X has feature names, but RandomForestClassifier was fitted without feature names\n",
      "  f\"X has feature names, but {self.__class__.__name__} was fitted without\"\n"
     ]
    },
    {
     "data": {
      "text/plain": [
       "0.8174913194444444"
      ]
     },
     "execution_count": 36,
     "metadata": {},
     "output_type": "execute_result"
    }
   ],
   "source": [
    "finalmodel.score(df_test, y_test)"
   ]
  },
  {
   "cell_type": "code",
   "execution_count": 37,
   "id": "c4fa5993",
   "metadata": {
    "execution": {
     "iopub.execute_input": "2022-06-23T01:08:41.434808Z",
     "iopub.status.busy": "2022-06-23T01:08:41.434278Z",
     "iopub.status.idle": "2022-06-23T01:08:41.680153Z",
     "shell.execute_reply": "2022-06-23T01:08:41.679159Z"
    },
    "papermill": {
     "duration": 0.277009,
     "end_time": "2022-06-23T01:08:41.683106",
     "exception": false,
     "start_time": "2022-06-23T01:08:41.406097",
     "status": "completed"
    },
    "tags": []
   },
   "outputs": [
    {
     "name": "stderr",
     "output_type": "stream",
     "text": [
      "/opt/conda/lib/python3.7/site-packages/sklearn/base.py:444: UserWarning: X has feature names, but RandomForestClassifier was fitted without feature names\n",
      "  f\"X has feature names, but {self.__class__.__name__} was fitted without\"\n"
     ]
    },
    {
     "name": "stdout",
     "output_type": "stream",
     "text": [
      "[[3283  164]\n",
      " [ 677  484]]\n"
     ]
    }
   ],
   "source": [
    "y_pred = finalmodel.predict(df_test)\n",
    "cm = metrics.confusion_matrix(y_test, y_pred)\n",
    "print(cm)"
   ]
  },
  {
   "cell_type": "code",
   "execution_count": 38,
   "id": "b1fa1164",
   "metadata": {
    "execution": {
     "iopub.execute_input": "2022-06-23T01:08:41.737340Z",
     "iopub.status.busy": "2022-06-23T01:08:41.736720Z",
     "iopub.status.idle": "2022-06-23T01:08:41.952999Z",
     "shell.execute_reply": "2022-06-23T01:08:41.951931Z"
    },
    "papermill": {
     "duration": 0.245733,
     "end_time": "2022-06-23T01:08:41.955137",
     "exception": false,
     "start_time": "2022-06-23T01:08:41.709404",
     "status": "completed"
    },
    "tags": []
   },
   "outputs": [
    {
     "data": {
      "image/png": "[encoded data removed]",
      "text/plain": [
       "<Figure size 432x288 with 2 Axes>"
      ]
     },
     "metadata": {
      "needs_background": "light"
     },
     "output_type": "display_data"
    }
   ],
   "source": [
    "disp = metrics.ConfusionMatrixDisplay(cm, display_labels=['<=50', '>50'])\n",
    "disp.plot(cmap=plt.cm.Blues)\n",
    "plt.show()"
   ]
  },
  {
   "cell_type": "markdown",
   "id": "1a66cc86",
   "metadata": {
    "papermill": {
     "duration": 0.026539,
     "end_time": "2022-06-23T01:08:42.007691",
     "exception": false,
     "start_time": "2022-06-23T01:08:41.981152",
     "status": "completed"
    },
    "tags": []
   },
   "source": [
    "To tune the random forest model we looked at two attributes. One was the depth of the trees in the forest. Second was the number of trees in the forest. To determine the best value for both we looped through many different runs of the models, each with a different depth or number of trees, and then compared accuracy scores to see what value for each gives use the best model. After determining that a depth of 6 and a forest of 400 trees gives us the best model, we ended up with a random forest model with an accuracy of about 82%. "
   ]
  }
 ],
 "metadata": {
  "kernelspec": {
   "display_name": "Python 3",
   "language": "python",
   "name": "python3"
  },
  "language_info": {
   "codemirror_mode": {
    "name": "ipython",
    "version": 3
   },
   "file_extension": ".py",
   "mimetype": "text/x-python",
   "name": "python",
   "nbconvert_exporter": "python",
   "pygments_lexer": "ipython3",
   "version": "3.7.12"
  },
  "papermill": {
   "default_parameters": {},
   "duration": 62.102611,
   "end_time": "2022-06-23T01:08:42.954984",
   "environment_variables": {},
   "exception": null,
   "input_path": "__notebook__.ipynb",
   "output_path": "__notebook__.ipynb",
   "parameters": {},
   "start_time": "2022-06-23T01:07:40.852373",
   "version": "2.3.4"
  }
 },
 "nbformat": 4,
 "nbformat_minor": 5
}
